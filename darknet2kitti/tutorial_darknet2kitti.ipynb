{
 "cells": [
  {
   "cell_type": "markdown",
   "id": "f21d57b0-3ec7-4818-805a-969501901965",
   "metadata": {},
   "source": [
    "# Tutorial\n",
    "\n",
    "1. Point to the root directory containing all .txt files \n",
    "2. Output is saved to ```output``` dir."
   ]
  },
  {
   "cell_type": "code",
   "execution_count": 23,
   "id": "08239a9f-a1ba-4c71-b8b0-853888d86e67",
   "metadata": {},
   "outputs": [
    {
     "name": "stdout",
     "output_type": "stream",
     "text": [
      "{'traffic_sign': 0, 'pedestrian': 1, 'bicycle': 2, 'car': 3, 'motocycle': 4, 'other_vehicle': 5, 'bus': 6, 'truck': 7, 'traffic_light': 8, 'animal': 9}\n",
      "Namespace(input='/home/david/Documents/Datasets/STS_COCO_dataset_v1/labels', label='old_label.label', new_label='new_label.label', remapper='sample_remap.label', walk=None)\n",
      " 97%|████████████████████████████████ | 135411/139327 [00:21<00:00, 5764.10it/s]output/1277107089Image000056.txt\n",
      "['0 0.289211313671875 0.4261012942708334 0.016538616406249984 0.02228360937500001', '0 0.2888120765625 0.44544923229166666 0.015479651562499974 0.017964039583333324', '0 0.015295816796875 0.4461123973958333 0.01530532421875 0.019606819791666653', '0 0.016172130859375 0.4666139375 0.013326839843749999 0.016954022916666686']\n",
      "100%|█████████████████████████████████| 139327/139327 [00:22<00:00, 6314.66it/s]\n",
      "Saved to output\n",
      "Finished.\n"
     ]
    }
   ],
   "source": [
    "!python darknet_label_remapper.py -i /home/david/Documents/Datasets/STS_COCO_dataset_v1/labels -l old_label.label -nl new_label.label -r sample_remap.label"
   ]
  },
  {
   "cell_type": "markdown",
   "id": "399ba593-1700-45b7-8d0e-63513fff86c3",
   "metadata": {},
   "source": [
    "3. To use darknet2kitti.py, we want the .txt files and .jpg files to conform to darknet structure. We move all relevant images to output folder"
   ]
  },
  {
   "cell_type": "code",
   "execution_count": 24,
   "id": "eeae7424-c04f-4814-889d-44abb344397e",
   "metadata": {},
   "outputs": [],
   "source": [
    "import os, glob, shutil\n",
    "from pathlib import Path\n",
    "import tqdm"
   ]
  },
  {
   "cell_type": "code",
   "execution_count": 25,
   "id": "18e625f7-a650-4cf1-a3be-ed9ae0840d83",
   "metadata": {},
   "outputs": [],
   "source": [
    "INPUT_DIR = \"output\" # Containing the .txt files\n",
    "\n",
    "TRAIN_IMAGE_OUTPUT_DIR = \"train/images\"\n",
    "TRAIN_LABEL_OUTPUT_DIR = \"train/labels\"\n",
    "\n",
    "VALID_IMAGE_OUTPUT_DIR = \"valid/images\"\n",
    "VALID_LABEL_OUTPUT_DIR = \"valid/labels\"\n",
    "\n",
    "\n",
    "Path(TRAIN_IMAGE_OUTPUT_DIR).mkdir(exist_ok=True, parents=True)\n",
    "Path(TRAIN_LABEL_OUTPUT_DIR).mkdir(exist_ok=True, parents=True)\n",
    "\n",
    "Path(VALID_IMAGE_OUTPUT_DIR).mkdir(exist_ok=True, parents=True)\n",
    "Path(VALID_LABEL_OUTPUT_DIR).mkdir(exist_ok=True, parents=True)"
   ]
  },
  {
   "cell_type": "markdown",
   "id": "8b5cdb5e-8e12-474f-a5f6-facf893c2a99",
   "metadata": {},
   "source": [
    "# STS specific operation\n",
    "\n",
    "We sort images and slice the validaiton set "
   ]
  },
  {
   "cell_type": "code",
   "execution_count": 26,
   "id": "4b4a16b9-0ac4-4453-a04d-d7acee42d8e5",
   "metadata": {},
   "outputs": [],
   "source": [
    "# Save path to original images into an array\n",
    "imgs = glob.glob(\"/home/david/Documents/Datasets/STS_COCO_dataset_v1/images/coco_train2017/*.jpg\")\n",
    "imgs += glob.glob(\"/home/david/Documents/Datasets/STS_COCO_dataset_v1/images/unlabelled_sts/*.jpg\")\n",
    "imgs += glob.glob(\"/home/david/Documents/Datasets/STS_COCO_dataset_v1/images/batch0/*.jpg\")"
   ]
  },
  {
   "cell_type": "code",
   "execution_count": 27,
   "id": "188bd00b-28d7-471b-a9e6-2877bf8fa6cd",
   "metadata": {},
   "outputs": [],
   "source": [
    "imgs.sort(reverse=True,key=lambda x: os.path.basename(x)) \n",
    "valid_images = imgs[:3000]\n",
    "train_images = imgs[3000:]\n",
    "\n",
    "# COCO samples inside validation set\n",
    "for path in valid_images:\n",
    "    assert \"batch0\" in path or \"unlabelled_sts\" in path"
   ]
  },
  {
   "cell_type": "code",
   "execution_count": 28,
   "id": "6994874e-6ab5-4376-a8ee-eb0599cdee2c",
   "metadata": {},
   "outputs": [
    {
     "name": "stderr",
     "output_type": "stream",
     "text": [
      "100%|██████████| 134523/134523 [01:53<00:00, 1190.14it/s]\n",
      "100%|██████████| 3000/3000 [00:05<00:00, 576.53it/s]\n"
     ]
    }
   ],
   "source": [
    "for img_path in tqdm.tqdm(train_images):\n",
    "    img_filename = os.path.basename(img_path)\n",
    "    label_filename = img_filename.replace(\".jpg\", \".txt\")\n",
    "    \n",
    "    label_path = os.path.join(INPUT_DIR, label_filename)\n",
    "    assert os.path.isfile(label_path)\n",
    "    \n",
    "    new_img_path = os.path.join(TRAIN_IMAGE_OUTPUT_DIR, img_filename)\n",
    "    new_label_path = os.path.join(TRAIN_LABEL_OUTPUT_DIR, label_filename)\n",
    "    \n",
    "    shutil.copyfile(img_path, new_img_path)\n",
    "    shutil.copyfile(label_path, new_label_path)\n",
    "    \n",
    "for img_path in tqdm.tqdm(valid_images):\n",
    "    img_filename = os.path.basename(img_path)\n",
    "    label_filename = img_filename.replace(\".jpg\", \".txt\")\n",
    "    \n",
    "    label_path = os.path.join(INPUT_DIR, label_filename)\n",
    "    assert os.path.isfile(label_path)\n",
    "    \n",
    "    new_img_path = os.path.join(VALID_IMAGE_OUTPUT_DIR, img_filename)\n",
    "    new_label_path = os.path.join(VALID_LABEL_OUTPUT_DIR, label_filename)\n",
    "    \n",
    "    shutil.copyfile(img_path, new_img_path)\n",
    "    shutil.copyfile(label_path, new_label_path)"
   ]
  },
  {
   "cell_type": "markdown",
   "id": "5fa40f3d-9879-469e-aad4-f1e71452ab28",
   "metadata": {},
   "source": [
    "4. Now we use darknet2kitti.py in order to create the kitti dataset"
   ]
  },
  {
   "cell_type": "code",
   "execution_count": 29,
   "id": "b2baa461-805e-4366-84b9-03bb3357e98f",
   "metadata": {},
   "outputs": [
    {
     "name": "stdout",
     "output_type": "stream",
     "text": [
      "100%|█████████████████████████████████| 134523/134523 [00:32<00:00, 4159.87it/s]\n",
      "Output saved to output/train/labels/000000294667.txt\n",
      "Finished.\n",
      "100%|█████████████████████████████████████| 3000/3000 [00:00<00:00, 9200.46it/s]\n",
      "Output saved to output/valid/labels/1277387763Image000023.txt\n",
      "Finished.\n"
     ]
    }
   ],
   "source": [
    "!python darknet2kitti.py -i train/labels/ -l new_label.label -tlt\n",
    "!python darknet2kitti.py -i valid/labels/ -l new_label.label -tlt"
   ]
  },
  {
   "cell_type": "markdown",
   "id": "30f0af42-6ca9-40de-8afc-9d0c637cbd87",
   "metadata": {},
   "source": [
    "5. Clean"
   ]
  },
  {
   "cell_type": "code",
   "execution_count": 30,
   "id": "643eb5cc-2538-4438-876e-e8a838a89ccf",
   "metadata": {},
   "outputs": [],
   "source": [
    "!cp -r output/train .\n",
    "!cp -r output/valid ."
   ]
  },
  {
   "cell_type": "code",
   "execution_count": 31,
   "id": "1c0b35c1-df39-4f32-b7ed-9528401fba04",
   "metadata": {},
   "outputs": [],
   "source": [
    "for path in glob.glob(\"output/*.txt\"):\n",
    "    os.remove(path)"
   ]
  },
  {
   "cell_type": "code",
   "execution_count": 32,
   "id": "a31a4626-4743-4b25-b147-e928295136e4",
   "metadata": {},
   "outputs": [],
   "source": [
    "!rm -r output"
   ]
  },
  {
   "cell_type": "code",
   "execution_count": 116,
   "id": "e8776487-f0ed-4995-a0cc-a17a84f684d2",
   "metadata": {},
   "outputs": [],
   "source": [
    "#!rm -r train\n",
    "#!rm -r valid"
   ]
  },
  {
   "cell_type": "code",
   "execution_count": null,
   "id": "d1624ccc-739f-479c-9062-927648edd528",
   "metadata": {},
   "outputs": [],
   "source": []
  }
 ],
 "metadata": {
  "kernelspec": {
   "display_name": "Python 3",
   "language": "python",
   "name": "python3"
  },
  "language_info": {
   "codemirror_mode": {
    "name": "ipython",
    "version": 3
   },
   "file_extension": ".py",
   "mimetype": "text/x-python",
   "name": "python",
   "nbconvert_exporter": "python",
   "pygments_lexer": "ipython3",
   "version": "3.8.8"
  }
 },
 "nbformat": 4,
 "nbformat_minor": 5
}
